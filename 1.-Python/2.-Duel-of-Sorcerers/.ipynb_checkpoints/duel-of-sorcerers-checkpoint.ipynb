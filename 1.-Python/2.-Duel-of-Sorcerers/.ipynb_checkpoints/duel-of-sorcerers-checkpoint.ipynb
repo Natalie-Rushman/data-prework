{
 "cells": [
  {
   "cell_type": "markdown",
   "metadata": {},
   "source": [
    "<img src=\"https://bit.ly/2VnXWr2\" width=\"100\" align=\"left\">"
   ]
  },
  {
   "cell_type": "markdown",
   "metadata": {},
   "source": [
    "# Duel of Sorcerers\n",
    "You are witnessing an epic battle between two powerful sorcerers: Gandalf and Saruman. Each sorcerer has 10 spells of variable power in their mind and they are going to throw them one after the other. The winner of the duel will be the one who wins more of those clashes between spells. Spells are represented as a list of 10 integers whose value equals the power of the spell.\n",
    "```\n",
    "gandalf = [10, 11, 13, 30, 22, 11, 10, 33, 22, 22]\n",
    "saruman = [23, 66, 12, 43, 12, 10, 44, 23, 12, 17]\n",
    "```\n",
    "For example:\n",
    "- The first clash is won by Saruman: 10 against 23.\n",
    "- The second clash is won by Saruman: 11 against 66.\n",
    "- ...\n",
    "\n",
    "You will create two variables, one for each sorcerer, where the sum of clashes won will be stored. Depending on which variable is greater at the end of the duel, you will show one of the following three results on the screen:\n",
    "* Gandalf wins\n",
    "* Saruman wins\n",
    "* Tie\n",
    "\n",
    "<img src=\"images/content_lightning_bolt_big.jpg\" width=\"400\">"
   ]
  },
  {
   "cell_type": "markdown",
   "metadata": {},
   "source": [
    "## Tools\n",
    "You don't necessarily need to use all the tools. Maybe you opt to use some of them or completely different ones, they are given to help you shape the exercise. Programming exercises can be solved in many different ways.\n",
    "\n",
    "1. Data structures: **lists, dictionaries**\n",
    "2. Loop: **for loop**\n",
    "3. Conditional statements: **if-elif-else**\n",
    "4. Functions: **range(), len(), print()**\n",
    "\n",
    "## Tasks\n",
    "\n",
    "#### 1. Create two variables called `gandalf` and `saruman` and assign them the spell power lists. Create a variable called `spells` to store the number of spells that the sorcerers cast. "
   ]
  },
  {
   "cell_type": "code",
   "execution_count": 1,
   "metadata": {},
   "outputs": [],
   "source": [
    "gandalf = [10, 11, 13, 30, 22, 11, 10, 33, 22, 22]\n",
    "saruman = [23, 66, 12, 43, 12, 10, 44, 23, 12, 17]\n",
    "\n",
    "# Alle Zaubersprüche insgesamt oder die jeweiligen Wettbewerbe?\n",
    "spells = [(10, 23), (11, 66), (13, 12), (30, 43), (22, 12), (11, 10), (10, 44), (33, 23), (22, 12), (22, 17)]"
   ]
  },
  {
   "cell_type": "markdown",
   "metadata": {},
   "source": [
    "#### 2. Create two variables called `gandalf_wins` and `saruman_wins`. Set both of them to 0. \n",
    "You will use these variables to count the number of clashes each sorcerer wins. "
   ]
  },
  {
   "cell_type": "code",
   "execution_count": 19,
   "metadata": {},
   "outputs": [
    {
     "name": "stdout",
     "output_type": "stream",
     "text": [
      "Saruman wins.\n",
      "Saruman wins.\n",
      "Gandalf wins.\n",
      "Saruman wins.\n",
      "Gandalf wins.\n",
      "Gandalf wins.\n",
      "Saruman wins.\n",
      "Gandalf wins.\n",
      "Gandalf wins.\n",
      "Gandalf wins.\n"
     ]
    }
   ],
   "source": [
    "# I didn't use the initial variables, but I am very happy to have been able to find a result nonetheless.\n",
    "\n",
    "spells = [(10, 23), (11, 66), (13, 12), (30, 43), (22, 12), (11, 10), (10, 44), (33, 23), (22, 12), (22, 17)]\n",
    "gandalf_spells = 0\n",
    "saruman_spells = 0\n",
    "number_clashes = 0\n",
    "\n",
    "for clashes in spells:\n",
    "    number_clashes += 1\n",
    "    clashes_result = clashes[0] - clashes[1]\n",
    "    \n",
    "    if clashes_result > 0:\n",
    "        print(\"Gandalf wins.\")\n",
    "    elif clashes_result < 0:\n",
    "        print(\"Saruman wins.\")\n",
    "    elif clashes_result == 0:\n",
    "        print(\"Tie.\")"
   ]
  },
  {
   "cell_type": "markdown",
   "metadata": {},
   "source": [
    "#### 3. Using the lists of spells of both sorcerers, update variables `gandalf_wins` and `saruman_wins` to count the number of times each sorcerer wins a clash. "
   ]
  },
  {
   "cell_type": "code",
   "execution_count": 13,
   "metadata": {},
   "outputs": [
    {
     "name": "stdout",
     "output_type": "stream",
     "text": [
      "[-13, -55, 1, -13, 10, 1, -34, 10, 10, 5]\n",
      "[1, 1, 1, 10, 1, 10, 1, 1, 10, 1, 1, 10, 1, 10, 1, 10, 1, 10, 10, 1, 10, 1, 10, 10, 5]\n",
      "[-13, -13, -55, -13, -55, -13, -55, -13, -13, -55, -13, -13, -55, -13, -13, -55, -13, -34, -13, -55, -13, -34, -13, -55, -13, -34, -13, -55, -13, -34]\n"
     ]
    }
   ],
   "source": [
    "# I succeeded in seperating the positive and negative integers.\n",
    "# But why do they appear several times?\n",
    "\n",
    "spells = [(10, 23), (11, 66), (13, 12), (30, 43), (22, 12), (11, 10), (10, 44), (33, 23), (22, 12), (22, 17)]\n",
    "number_clashes = 0\n",
    "gandalf_wins = []\n",
    "saruman_wins = []\n",
    "list_results = []\n",
    "clashes_result = 0\n",
    "\n",
    "for clashes in spells: # I refer to the tuples within the list\n",
    "    number_clashes += 1 # I go on iterating by adding 1\n",
    "    clashes_result = clashes[0] - clashes[1] # I want to know which integer is higher to know the winner.\n",
    "    list_results.append(clashes_result) # I create a new list incl. the results.\n",
    "    \n",
    "    for pos in list_results: # List comprehension: I want to seperate the positive and negative integers in two different lists.\n",
    "        if pos > 0: \n",
    "            gandalf_wins.append(pos)\n",
    "    \n",
    "    for neg in list_results:\n",
    "        if neg < 0:\n",
    "            saruman_wins.append(neg)\n",
    "\n",
    "print(list_results)\n",
    "print(gandalf_wins) \n",
    "print(saruman_wins)"
   ]
  },
  {
   "cell_type": "markdown",
   "metadata": {},
   "source": [
    "#### 4. Who won the battle?\n",
    "Print `Gandalf wins`, `Saruman wins` or `Tie` depending on the result. "
   ]
  },
  {
   "cell_type": "code",
   "execution_count": 16,
   "metadata": {},
   "outputs": [
    {
     "name": "stdout",
     "output_type": "stream",
     "text": [
      "Saruman wins.\n"
     ]
    }
   ],
   "source": [
    "# Fraud! It is Gandalf who wins. I have to correct this...\n",
    "\n",
    "spells = [(10, 23), (11, 66), (13, 12), (30, 43), (22, 12), (11, 10), (10, 44), (33, 23), (22, 12), (22, 17)]\n",
    "number_clashes = 0\n",
    "gandalf_wins = []\n",
    "saruman_wins = []\n",
    "list_results = []\n",
    "clashes_result = 0\n",
    "\n",
    "for clashes in spells: # I refer to the tuples within the list\n",
    "    number_clashes += 1 # I go on iterating by adding 1\n",
    "    clashes_result = clashes[0] - clashes[1] # I want to know which integer is higher to know the winner.\n",
    "    list_results.append(clashes_result) # I create a new list incl. the results.\n",
    "    \n",
    "    for pos in list_results: # List comprehension: I want to seperate the positive and negative integers in two different lists.\n",
    "        if pos > 0: \n",
    "            gandalf_wins.append(pos)\n",
    "    \n",
    "    for neg in list_results:\n",
    "        if neg < 0:\n",
    "            saruman_wins.append(neg)\n",
    "    \n",
    "if len(gandalf_wins) > len(saruman_wins):\n",
    "    print(\"Gandalf wins.\")\n",
    "elif len(gandalf_wins) < len(saruman_wins):\n",
    "    print(\"Saruman wins.\")\n",
    "else:\n",
    "    print(\"Tie.\")"
   ]
  },
  {
   "cell_type": "markdown",
   "metadata": {},
   "source": [
    "## Bonus\n",
    "\n",
    "In this bonus challenge, you'll need to check the winner of the battle but this time, a sorcerer wins if he succeeds in winning 3 spell clashes in a row.\n",
    "\n",
    "Also, the spells now have a name and there is a dictionary that associates that name to a power.\n",
    "\n",
    "```\n",
    "POWER = {\n",
    "    'Fireball': 50, \n",
    "    'Lightning bolt': 40, \n",
    "    'Magic arrow': 10, \n",
    "    'Black Tentacles': 25, \n",
    "    'Contagion': 45\n",
    "}\n",
    "\n",
    "gandalf = ['Fireball', 'Lightning bolt', 'Lightning bolt', 'Magic arrow', 'Fireball', \n",
    "           'Magic arrow', 'Lightning bolt', 'Fireball', 'Fireball', 'Fireball']\n",
    "saruman = ['Contagion', 'Contagion', 'Black Tentacles', 'Fireball', 'Black Tentacles', \n",
    "           'Lightning bolt', 'Magic arrow', 'Contagion', 'Magic arrow', 'Magic arrow']\n",
    "```\n",
    "\n",
    "#### 1. Create variables `POWER`, `gandalf` and `saruman` as seen above. Create a variable called `spells` to store the number of spells that the sorcerers cast. "
   ]
  },
  {
   "cell_type": "code",
   "execution_count": null,
   "metadata": {},
   "outputs": [],
   "source": []
  },
  {
   "cell_type": "markdown",
   "metadata": {},
   "source": [
    "#### 2. Create two variables called `gandalf_wins` and `saruman_wins`. Set both of them to 0. "
   ]
  },
  {
   "cell_type": "code",
   "execution_count": null,
   "metadata": {},
   "outputs": [],
   "source": []
  },
  {
   "cell_type": "markdown",
   "metadata": {},
   "source": [
    "#### 3. Create two variables called `gandalf_power` and `saruman_power` to store the list of spell powers of each sorcerer."
   ]
  },
  {
   "cell_type": "code",
   "execution_count": null,
   "metadata": {},
   "outputs": [],
   "source": []
  },
  {
   "cell_type": "markdown",
   "metadata": {},
   "source": [
    "#### 4. The battle starts! Using the variables you've created above, code the execution of spell clashes. Remember that a sorcerer wins if he succeeds in winning 3 spell clashes in a row. \n",
    "If a clash ends up in a tie, the counter of wins in a row is not restarted to 0. Remember to print who is the winner of the battle. "
   ]
  },
  {
   "cell_type": "code",
   "execution_count": null,
   "metadata": {},
   "outputs": [],
   "source": []
  },
  {
   "cell_type": "markdown",
   "metadata": {},
   "source": [
    "#### 5. Find the average spell power of Gandalf and Saruman. "
   ]
  },
  {
   "cell_type": "code",
   "execution_count": null,
   "metadata": {},
   "outputs": [],
   "source": []
  },
  {
   "cell_type": "markdown",
   "metadata": {},
   "source": [
    "#### 6. Find the standard deviation of the spell power of Gandalf and Saruman. "
   ]
  },
  {
   "cell_type": "code",
   "execution_count": null,
   "metadata": {},
   "outputs": [],
   "source": []
  }
 ],
 "metadata": {
  "kernelspec": {
   "display_name": "Python 3",
   "language": "python",
   "name": "python3"
  },
  "language_info": {
   "codemirror_mode": {
    "name": "ipython",
    "version": 3
   },
   "file_extension": ".py",
   "mimetype": "text/x-python",
   "name": "python",
   "nbconvert_exporter": "python",
   "pygments_lexer": "ipython3",
   "version": "3.9.6"
  }
 },
 "nbformat": 4,
 "nbformat_minor": 2
}
