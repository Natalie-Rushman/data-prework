{
 "cells": [
  {
   "cell_type": "markdown",
   "metadata": {},
   "source": [
    "<img src=\"https://bit.ly/2VnXWr2\" width=\"100\" align=\"left\">"
   ]
  },
  {
   "cell_type": "markdown",
   "metadata": {},
   "source": [
    "# Bus\n",
    "\n",
    "This bus has a passenger entry and exit control system to monitor the number of occupants it carries and thus detect when there are too many.\n",
    "\n",
    "At each stop, the entry and exit of passengers is represented by a tuple consisting of two integer numbers.\n",
    "```\n",
    "bus_stop = (in, out)\n",
    "```\n",
    "The succession of stops is represented by a list of these tuples.\n",
    "```\n",
    "stops = [(in1, out1), (in2, out2), (in3, out3), (in4, out4)]\n",
    "```\n",
    "\n",
    "## Tools\n",
    "You don't necessarily need to use all the tools. Maybe you opt to use some of them or completely different ones, they are given to help you shape the exercise. Programming exercises can be solved in many different ways.\n",
    "* Data structures: **lists, tuples**\n",
    "* Loop: **while/for loops**\n",
    "* Functions: **min, max, len**\n",
    "\n",
    "## Tasks"
   ]
  },
  {
   "cell_type": "code",
   "execution_count": null,
   "metadata": {},
   "outputs": [],
   "source": [
    "# Variables\n",
    "stops = [(10, 0), (4, 1), (3, 5), (3, 4), (5, 1), (1, 5), (5, 8), (4, 6), (2, 3)]"
   ]
  },
  {
   "cell_type": "markdown",
   "metadata": {},
   "source": [
    "#### 1. Calculate the number of stops."
   ]
  },
  {
   "cell_type": "code",
   "execution_count": 5,
   "metadata": {},
   "outputs": [
    {
     "name": "stdout",
     "output_type": "stream",
     "text": [
      "Number of stops: 9\n"
     ]
    }
   ],
   "source": [
    "stops = [(10, 0), (4, 1), (3, 5), (3, 4), (5, 1), (1, 5), (5, 8), (4, 6), (2, 3)]\n",
    "\n",
    "# Calculate the number of stops\n",
    "len(stops)\n",
    "\n",
    "# Print the number of stops\n",
    "number_stops = len(stops)\n",
    "# NB: The definition of variables doesn't include any call to action!\n",
    "print(\"Number of stops:\", number_stops)\n",
    "\n",
    "# The output doesn't show the first operation. Why? Does printing replace the computing's output?"
   ]
  },
  {
   "cell_type": "markdown",
   "metadata": {},
   "source": [
    "#### 2. Assign to a variable a list whose elements are the number of passengers at each stop (in-out).\n",
    "Each item depends on the previous item in the list + in - out."
   ]
  },
  {
   "cell_type": "code",
   "execution_count": 1,
   "metadata": {},
   "outputs": [
    {
     "name": "stdout",
     "output_type": "stream",
     "text": [
      "Bus capacity: 10\n",
      "Number of stops: 1\n",
      "Bus capacity: 13\n",
      "Number of stops: 2\n",
      "Bus capacity: 11\n",
      "Number of stops: 3\n",
      "Bus capacity: 10\n",
      "Number of stops: 4\n",
      "Bus capacity: 14\n",
      "Number of stops: 5\n",
      "Bus capacity: 10\n",
      "Number of stops: 6\n",
      "Bus capacity: 7\n",
      "Number of stops: 7\n",
      "Bus capacity: 5\n",
      "Number of stops: 8\n",
      "Bus capacity: 4\n",
      "Number of stops: 9\n"
     ]
    }
   ],
   "source": [
    "stops = [(10, 0), (4, 1), (3, 5), (3, 4), (5, 1), (1, 5), (5, 8), (4, 6), (2, 3)]\n",
    "\n",
    "# At the beginning of the ride there is no passenger on the bus.\n",
    "bus_capacity = 0 # Is this a definition or a declaration?\n",
    "\n",
    "# The number of the passengers at each stop shall be a list.\n",
    "pass_stop = []\n",
    "\n",
    "# The number of passengers at each stop depends on the number of entering passengers \n",
    "# minus the number of deboarding ones. A for loop shall compute the number of passengers,\n",
    "# it will end at the end of the ride/list.\n",
    "\n",
    "# Beginning of calculation at the beginning of the ride, i. e. with an empty bus and no stops.\n",
    "number_stops = 0\n",
    "\n",
    "for stop in stops:\n",
    "    bus_capacity += stop[0] - stop[1] # Calculate the number of passengers at each stop.\n",
    "    number_stops += 1 # Add one stop from zero (see definition number_stops = 0) till the end of list.\n",
    "    pass_stop.append(bus_capacity) # We need a new list to assembly the number of passengers at each stop.\n",
    "    print(\"Bus capacity:\", bus_capacity)\n",
    "    print(\"Number of stops:\",number_stops)"
   ]
  },
  {
   "cell_type": "markdown",
   "metadata": {},
   "source": [
    "#### 3. Find the maximum occupation of the bus."
   ]
  },
  {
   "cell_type": "code",
   "execution_count": 4,
   "metadata": {},
   "outputs": [
    {
     "data": {
      "text/plain": [
       "14"
      ]
     },
     "execution_count": 4,
     "metadata": {},
     "output_type": "execute_result"
    }
   ],
   "source": [
    "# Compute the maximun occupation of the bus.  \n",
    "max(pass_stop)"
   ]
  },
  {
   "cell_type": "markdown",
   "metadata": {},
   "source": [
    "#### 4. Calculate the average occupation. And the standard deviation."
   ]
  },
  {
   "cell_type": "code",
   "execution_count": 6,
   "metadata": {},
   "outputs": [
    {
     "data": {
      "text/plain": [
       "3.391164991562634"
      ]
     },
     "execution_count": 6,
     "metadata": {},
     "output_type": "execute_result"
    }
   ],
   "source": [
    "# Python allows us to import operations such as the standard derivation from its statistics library.\n",
    "import statistics\n",
    "statistics.stdev(pass_stop)"
   ]
  },
  {
   "cell_type": "code",
   "execution_count": 7,
   "metadata": {},
   "outputs": [
    {
     "data": {
      "text/plain": [
       "9.333333333333334"
      ]
     },
     "execution_count": 7,
     "metadata": {},
     "output_type": "execute_result"
    }
   ],
   "source": [
    "# Calculate the average occupation of the bus.\n",
    "sum(pass_stop)/len(pass_stop)\n",
    "\n",
    "# Is there a possibility to operate both the average occupation and the standard derivation together?"
   ]
  },
  {
   "cell_type": "code",
   "execution_count": null,
   "metadata": {},
   "outputs": [],
   "source": []
  },
  {
   "cell_type": "code",
   "execution_count": null,
   "metadata": {},
   "outputs": [],
   "source": []
  }
 ],
 "metadata": {
  "kernelspec": {
   "display_name": "Python 3",
   "language": "python",
   "name": "python3"
  },
  "language_info": {
   "codemirror_mode": {
    "name": "ipython",
    "version": 3
   },
   "file_extension": ".py",
   "mimetype": "text/x-python",
   "name": "python",
   "nbconvert_exporter": "python",
   "pygments_lexer": "ipython3",
   "version": "3.9.6"
  }
 },
 "nbformat": 4,
 "nbformat_minor": 2
}
